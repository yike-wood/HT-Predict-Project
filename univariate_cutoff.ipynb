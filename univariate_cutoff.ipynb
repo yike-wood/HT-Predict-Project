{
 "cells": [
  {
   "cell_type": "code",
   "execution_count": 1,
   "metadata": {},
   "outputs": [],
   "source": [
    "import numpy as np \n",
    "import pandas as pd \n",
    "import matplotlib.pyplot as plt \n",
    "from sklearn.model_selection import  train_test_split\n",
    "from scipy import stats\n",
    "from sklearn import metrics\n",
    "pd.set_option('display.max_rows',None) \n",
    "pd.set_option('display.max_columns',None)"
   ]
  },
  {
   "cell_type": "code",
   "execution_count": 2,
   "metadata": {},
   "outputs": [],
   "source": [
    "def metrics_calculate(y, y_pred):\n",
    "   tp = np.count_nonzero((y_pred == y) & (y == 1))\n",
    "   fn = np.count_nonzero((y_pred != y) & (y == 1))\n",
    "   tn = np.count_nonzero((y_pred == y) & (y == 0))\n",
    "   fp = np.count_nonzero((y_pred != y) & (y == 0)) \n",
    "   tpr = tp / (tp + fn)\n",
    "   spc = tn / (tn + fp)\n",
    "   fpr = 1 - spc\n",
    "   ppv = tp / (tp + fp)  \n",
    "   npv = tn / (fn + tn)  \n",
    "\n",
    "   return [tpr,spc,fpr,ppv,npv]"
   ]
  },
  {
   "cell_type": "code",
   "execution_count": 3,
   "metadata": {},
   "outputs": [
    {
     "name": "stderr",
     "output_type": "stream",
     "text": [
      "/var/folders/ss/cyqt6ndd4fn7krhfng6_hjjc0000gn/T/ipykernel_2332/3536202919.py:3: SettingWithCopyWarning: \n",
      "A value is trying to be set on a copy of a slice from a DataFrame\n",
      "\n",
      "See the caveats in the documentation: https://pandas.pydata.org/pandas-docs/stable/user_guide/indexing.html#returning-a-view-versus-a-copy\n",
      "  df['PWI-DWI Mismatch'][df['PWI-DWI Mismatch'] < 0] = 0\n"
     ]
    },
    {
     "data": {
      "text/plain": [
       "(265, 8)"
      ]
     },
     "execution_count": 3,
     "metadata": {},
     "output_type": "execute_result"
    }
   ],
   "source": [
    "df = pd.read_excel('../../HT_data/HT_table_20240227_clean_final.xlsx', sheet_name='All_clean')\n",
    "## convert mismatch < 0 -> = 0:\n",
    "df['PWI-DWI Mismatch'][df['PWI-DWI Mismatch'] < 0] = 0 \n",
    "\n",
    "features = ['NIHSS', \n",
    "            'ADC<620', 'Tmax>4 Volume', 'Tmax>6 Volume', 'Tmax>8 Volume', 'Tmax>10 Volume', \n",
    "            'PWI-DWI Mismatch', 'VTmax>10s/VTmax>6s']\n",
    "X = df[features]\n",
    "y = df['Group']\n",
    "random_seed = 4 \n",
    "X_train, X_test, y_train, y_test = train_test_split(X, y, stratify=y, test_size=0.3, random_state=random_seed)\n",
    "X_train.shape"
   ]
  },
  {
   "cell_type": "code",
   "execution_count": null,
   "metadata": {},
   "outputs": [],
   "source": [
    "# ['Age','Gender', 'Hypertension', 'Diabetes mellitus', 'Atrial fibrillation', 'Time from onset to MRI', 'NIHSS',\n",
    "#        '$\\mathrm{ADC} < 620 × \\mathrm{10}^{-6} \\mathrm{mm}^2/\\mathrm{s}$', 'Tmax > 4 s', 'Tmax > 6 s', 'Tmax > 8 s',\n",
    "#        'Tmax > 10 s', 'PWI-DWI mismatch', '$\\mathrm{V_{Tmax>10s}}/\\mathrm{V_{Tmax>6s}}$', 'Outcome (HT or non-HT)']"
   ]
  },
  {
   "cell_type": "code",
   "execution_count": 4,
   "metadata": {},
   "outputs": [
    {
     "data": {
      "text/html": [
       "<div>\n",
       "<style scoped>\n",
       "    .dataframe tbody tr th:only-of-type {\n",
       "        vertical-align: middle;\n",
       "    }\n",
       "\n",
       "    .dataframe tbody tr th {\n",
       "        vertical-align: top;\n",
       "    }\n",
       "\n",
       "    .dataframe thead th {\n",
       "        text-align: right;\n",
       "    }\n",
       "</style>\n",
       "<table border=\"1\" class=\"dataframe\">\n",
       "  <thead>\n",
       "    <tr style=\"text-align: right;\">\n",
       "      <th></th>\n",
       "      <th>NIHSS score at admission</th>\n",
       "      <th>$\\mathregular{ADC &lt; 620 × 10^{-6} mm^2/s}$</th>\n",
       "      <th>Tmax &gt; 4 s</th>\n",
       "      <th>Tmax &gt; 6 s</th>\n",
       "      <th>Tmax &gt; 8 s</th>\n",
       "      <th>Tmax &gt; 10 s</th>\n",
       "      <th>PWI-DWI mismatch</th>\n",
       "      <th>HIR</th>\n",
       "    </tr>\n",
       "  </thead>\n",
       "  <tbody>\n",
       "    <tr>\n",
       "      <th>220</th>\n",
       "      <td>0</td>\n",
       "      <td>8</td>\n",
       "      <td>385</td>\n",
       "      <td>155</td>\n",
       "      <td>63</td>\n",
       "      <td>21</td>\n",
       "      <td>147</td>\n",
       "      <td>0.1</td>\n",
       "    </tr>\n",
       "    <tr>\n",
       "      <th>259</th>\n",
       "      <td>3</td>\n",
       "      <td>52</td>\n",
       "      <td>139</td>\n",
       "      <td>92</td>\n",
       "      <td>68</td>\n",
       "      <td>49</td>\n",
       "      <td>40</td>\n",
       "      <td>0.5</td>\n",
       "    </tr>\n",
       "    <tr>\n",
       "      <th>119</th>\n",
       "      <td>22</td>\n",
       "      <td>116</td>\n",
       "      <td>804</td>\n",
       "      <td>489</td>\n",
       "      <td>304</td>\n",
       "      <td>213</td>\n",
       "      <td>373</td>\n",
       "      <td>0.4</td>\n",
       "    </tr>\n",
       "    <tr>\n",
       "      <th>364</th>\n",
       "      <td>1</td>\n",
       "      <td>0</td>\n",
       "      <td>12</td>\n",
       "      <td>0</td>\n",
       "      <td>0</td>\n",
       "      <td>0</td>\n",
       "      <td>0</td>\n",
       "      <td>0.0</td>\n",
       "    </tr>\n",
       "    <tr>\n",
       "      <th>378</th>\n",
       "      <td>3</td>\n",
       "      <td>0</td>\n",
       "      <td>38</td>\n",
       "      <td>9</td>\n",
       "      <td>9</td>\n",
       "      <td>9</td>\n",
       "      <td>9</td>\n",
       "      <td>1.0</td>\n",
       "    </tr>\n",
       "  </tbody>\n",
       "</table>\n",
       "</div>"
      ],
      "text/plain": [
       "     NIHSS score at admission  $\\mathregular{ADC < 620 × 10^{-6} mm^2/s}$  \\\n",
       "220                         0                                           8   \n",
       "259                         3                                          52   \n",
       "119                        22                                         116   \n",
       "364                         1                                           0   \n",
       "378                         3                                           0   \n",
       "\n",
       "     Tmax > 4 s  Tmax > 6 s  Tmax > 8 s  Tmax > 10 s  PWI-DWI mismatch  HIR  \n",
       "220         385         155          63           21               147  0.1  \n",
       "259         139          92          68           49                40  0.5  \n",
       "119         804         489         304          213               373  0.4  \n",
       "364          12           0           0            0                 0  0.0  \n",
       "378          38           9           9            9                 9  1.0  "
      ]
     },
     "execution_count": 4,
     "metadata": {},
     "output_type": "execute_result"
    }
   ],
   "source": [
    "X_train = X_train.rename(columns={\"NIHSS\": \"NIHSS score at admission\",\n",
    "    'ADC<620':'$\\mathregular{ADC < 620 × 10^{-6} mm^2/s}$',\n",
    "                                  'Tmax>4 Volume':'Tmax > 4 s',\n",
    "                                  'Tmax>6 Volume':'Tmax > 6 s',\n",
    "                                  'Tmax>8 Volume':'Tmax > 8 s',\n",
    "                                  'Tmax>10 Volume':'Tmax > 10 s',\n",
    "                                  'PWI-DWI Mismatch':'PWI-DWI mismatch',\n",
    "                                  'VTmax>10s/VTmax>6s':'HIR'})\n",
    "X_train.head()"
   ]
  },
  {
   "cell_type": "code",
   "execution_count": 5,
   "metadata": {},
   "outputs": [
    {
     "data": {
      "text/html": [
       "<div>\n",
       "<style scoped>\n",
       "    .dataframe tbody tr th:only-of-type {\n",
       "        vertical-align: middle;\n",
       "    }\n",
       "\n",
       "    .dataframe tbody tr th {\n",
       "        vertical-align: top;\n",
       "    }\n",
       "\n",
       "    .dataframe thead th {\n",
       "        text-align: right;\n",
       "    }\n",
       "</style>\n",
       "<table border=\"1\" class=\"dataframe\">\n",
       "  <thead>\n",
       "    <tr style=\"text-align: right;\">\n",
       "      <th></th>\n",
       "      <th>NIHSS score at admission</th>\n",
       "      <th>$\\mathregular{ADC &lt; 620 × 10^{-6} mm^2/s}$</th>\n",
       "      <th>Tmax &gt; 4 s</th>\n",
       "      <th>Tmax &gt; 6 s</th>\n",
       "      <th>Tmax &gt; 8 s</th>\n",
       "      <th>Tmax &gt; 10 s</th>\n",
       "      <th>PWI-DWI mismatch</th>\n",
       "      <th>HIR</th>\n",
       "    </tr>\n",
       "  </thead>\n",
       "  <tbody>\n",
       "    <tr>\n",
       "      <th>59</th>\n",
       "      <td>4</td>\n",
       "      <td>0</td>\n",
       "      <td>155</td>\n",
       "      <td>53</td>\n",
       "      <td>22</td>\n",
       "      <td>10</td>\n",
       "      <td>53</td>\n",
       "      <td>0.2</td>\n",
       "    </tr>\n",
       "    <tr>\n",
       "      <th>289</th>\n",
       "      <td>9</td>\n",
       "      <td>11</td>\n",
       "      <td>119</td>\n",
       "      <td>37</td>\n",
       "      <td>0</td>\n",
       "      <td>0</td>\n",
       "      <td>26</td>\n",
       "      <td>0.0</td>\n",
       "    </tr>\n",
       "    <tr>\n",
       "      <th>235</th>\n",
       "      <td>2</td>\n",
       "      <td>0</td>\n",
       "      <td>89</td>\n",
       "      <td>40</td>\n",
       "      <td>29</td>\n",
       "      <td>15</td>\n",
       "      <td>40</td>\n",
       "      <td>0.4</td>\n",
       "    </tr>\n",
       "    <tr>\n",
       "      <th>66</th>\n",
       "      <td>7</td>\n",
       "      <td>0</td>\n",
       "      <td>392</td>\n",
       "      <td>42</td>\n",
       "      <td>0</td>\n",
       "      <td>0</td>\n",
       "      <td>42</td>\n",
       "      <td>0.0</td>\n",
       "    </tr>\n",
       "    <tr>\n",
       "      <th>3</th>\n",
       "      <td>17</td>\n",
       "      <td>0</td>\n",
       "      <td>19</td>\n",
       "      <td>6</td>\n",
       "      <td>3</td>\n",
       "      <td>0</td>\n",
       "      <td>6</td>\n",
       "      <td>0.0</td>\n",
       "    </tr>\n",
       "  </tbody>\n",
       "</table>\n",
       "</div>"
      ],
      "text/plain": [
       "     NIHSS score at admission  $\\mathregular{ADC < 620 × 10^{-6} mm^2/s}$  \\\n",
       "59                          4                                           0   \n",
       "289                         9                                          11   \n",
       "235                         2                                           0   \n",
       "66                          7                                           0   \n",
       "3                          17                                           0   \n",
       "\n",
       "     Tmax > 4 s  Tmax > 6 s  Tmax > 8 s  Tmax > 10 s  PWI-DWI mismatch  HIR  \n",
       "59          155          53          22           10                53  0.2  \n",
       "289         119          37           0            0                26  0.0  \n",
       "235          89          40          29           15                40  0.4  \n",
       "66          392          42           0            0                42  0.0  \n",
       "3            19           6           3            0                 6  0.0  "
      ]
     },
     "execution_count": 5,
     "metadata": {},
     "output_type": "execute_result"
    }
   ],
   "source": [
    "X_test = X_test.rename(columns={\"NIHSS\": \"NIHSS score at admission\",\n",
    "    'ADC<620':'$\\mathregular{ADC < 620 × 10^{-6} mm^2/s}$',\n",
    "                                  'Tmax>4 Volume':'Tmax > 4 s',\n",
    "                                  'Tmax>6 Volume':'Tmax > 6 s',\n",
    "                                  'Tmax>8 Volume':'Tmax > 8 s',\n",
    "                                  'Tmax>10 Volume':'Tmax > 10 s',\n",
    "                                  'PWI-DWI Mismatch':'PWI-DWI mismatch',\n",
    "                                  'VTmax>10s/VTmax>6s':'HIR'})\n",
    "X_test.head()"
   ]
  },
  {
   "cell_type": "code",
   "execution_count": 15,
   "metadata": {},
   "outputs": [],
   "source": [
    "## sensitivity = tpr \n",
    "## 1-specificity = fpr \n",
    "def method_cutoff(X_train,y_train,feature_name,i):\n",
    "     \n",
    "    X_train_f = X_train[feature_name]\n",
    "    \n",
    "    colors = ['blue','orange','green','red','purple','brown','pink','gray']\n",
    "    \n",
    "    df_result = pd.DataFrame({'AUC':1,'Youden': 0,'Cutoff':0,'Acc':1,'SEN(Recall)':1,'SPC':0,'PPV(Precision)':1,'NPV':1},index=[feature_name])\n",
    "\n",
    "    for cutoff in np.arange(np.min(X_train_f),np.max(X_train_f),0.01):\n",
    "        cutoff = cutoff.round(4) \n",
    "        predictions = (X_train_f>cutoff).astype(int)\n",
    "        auc = metrics.roc_auc_score(y_train,predictions).round(4)\n",
    "        acc = metrics.accuracy_score(y_train,predictions).round(4)\n",
    "        [tpr,spc,fpr,ppv,npv] = metrics_calculate(y_train,predictions)\n",
    "        tmp = pd.DataFrame({'AUC':auc,'Youden':tpr-fpr,'Cutoff':cutoff,'Acc':acc,'SEN(Recall)':tpr,'SPC':spc,'PPV(Precision)':ppv,'NPV':npv},index=[feature_name])    \n",
    "        df_result = pd.concat([df_result,tmp])\n",
    "    \n",
    "    \n",
    "    max_youden = np.max(df_result['Youden'])\n",
    "    cutoff_range = []\n",
    "    zlist = []\n",
    "    for z in range(len(df_result)):\n",
    "        if df_result['Youden'][z] == max_youden:\n",
    "            cutoff_range.append(df_result['Cutoff'][z])\n",
    "            zlist.append(z)\n",
    "    (ci_low,ci_high) = stats.t.interval(0.95, df=len(cutoff_range)-1, loc=np.mean(cutoff_range), scale=stats.sem(cutoff_range)) \n",
    "    cutoff = np.mean(cutoff_range)\n",
    "    # print(df_result)\n",
    "     \n",
    "\n",
    "    X_test_f = X_test[feature_name]\n",
    "    y_pred = (X_test_f>cutoff).astype(int)\n",
    "    auc = metrics.roc_auc_score(y_test,y_pred).round(4)\n",
    "    \n",
    "    t = \"%s \\n (AUC = %.2f)\"%(feature_name,auc)\n",
    "    plt.plot(1-df_result['SPC'],df_result['SEN(Recall)'],linewidth=3,color = colors[i],label=t)\n",
    "    plt.xlabel('1 - Specificity',fontsize=30,fontproperties = 'Times New Roman',fontweight = \"bold\")\n",
    "    plt.ylabel('Sensitifity',fontsize=30,fontproperties = 'Times New Roman',fontweight = \"bold\")\n",
    "    plt.legend(loc=4,prop={'size': 20,'family' : 'Times New Roman'})\n",
    "    \n",
    "    x = 1-df_result.iloc[zlist[0]]['SPC'] \n",
    "    y = df_result.iloc[zlist[0]]['SEN(Recall)'] \n",
    "    x_prime = 1-df_result.iloc[zlist[0]-1]['SPC'] \n",
    "    y_prime = df_result.iloc[zlist[0]-1]['SEN(Recall)'] \n",
    "    plt.arrow(x,y,(x_prime - x)/10,(y_prime - y)/10,width=0.006,fc=colors[i])\n",
    "    print((x_prime - x,y_prime - y))\n",
    "    \n",
    "    return cutoff,(ci_low,ci_high)"
   ]
  },
  {
   "cell_type": "code",
   "execution_count": 12,
   "metadata": {},
   "outputs": [
    {
     "data": {
      "text/plain": [
       "Index(['NIHSS score at admission',\n",
       "       '$\\mathregular{ADC < 620 × 10^{-6} mm^2/s}$', 'Tmax > 4 s',\n",
       "       'Tmax > 6 s', 'Tmax > 8 s', 'Tmax > 10 s', 'PWI-DWI mismatch', 'HIR'],\n",
       "      dtype='object')"
      ]
     },
     "execution_count": 12,
     "metadata": {},
     "output_type": "execute_result"
    }
   ],
   "source": [
    "features"
   ]
  },
  {
   "cell_type": "code",
   "execution_count": 16,
   "metadata": {},
   "outputs": [
    {
     "name": "stdout",
     "output_type": "stream",
     "text": [
      "(0.6473988439306358, 0.06521739130434778)\n"
     ]
    },
    {
     "data": {
      "image/png": "[encoded data removed]",
      "text/plain": [
       "<Figure size 1080x1080 with 1 Axes>"
      ]
     },
     "metadata": {
      "needs_background": "light"
     },
     "output_type": "display_data"
    }
   ],
   "source": [
    "features = ['HIR'] # X_train.columns\n",
    "\n",
    "plt.figure(figsize=(15,15))\n",
    "cutoff_ls = dict() \n",
    "for i in range(len(features)):\n",
    "    cutoff,(ci_low,ci_high) = method_cutoff(X_train,y_train,features[i],i)\n",
    "    cutoff_ls[features[i]] = [cutoff,(ci_low,ci_high)]\n",
    "plt.xticks(fontproperties = 'Times New Roman',fontsize=20,fontweight = \"bold\")\n",
    "plt.yticks(fontproperties = 'Times New Roman',fontsize=20,fontweight = \"bold\")\n",
    "plt.savefig('figures/roc_curve.jpg',dpi=300)\n",
    "plt.show()"
   ]
  },
  {
   "cell_type": "code",
   "execution_count": 17,
   "metadata": {},
   "outputs": [
    {
     "data": {
      "text/plain": [
       "{'HIR': [0.045000000000000005, (0.023341494103866094, 0.06665850589613392)]}"
      ]
     },
     "execution_count": 17,
     "metadata": {},
     "output_type": "execute_result"
    }
   ],
   "source": [
    "cutoff_ls "
   ]
  },
  {
   "cell_type": "code",
   "execution_count": null,
   "metadata": {},
   "outputs": [],
   "source": []
  },
  {
   "cell_type": "code",
   "execution_count": 10,
   "metadata": {},
   "outputs": [],
   "source": [
    "def validate(X_test,y_test,feature_name,visbosity=True):\n",
    "    cutoff = cutoff_ls[feature_name][0]\n",
    "    X_test_f = X_test[feature_name]\n",
    "    y_pred = (X_test_f>cutoff).astype(int)\n",
    "    auc = metrics.roc_auc_score(y_test,y_pred).round(4)\n",
    "    acc = metrics.accuracy_score(y_test,y_pred).round(4)\n",
    "    [tpr,spc,fpr,ppv,npv] = metrics_calculate(y_test,y_pred)\n",
    "    tmp = pd.DataFrame({'Cutoff':cutoff,'Cutoff 95%CI(low)':cutoff_ls[feature_name][1][0],'Cutoff 95%CI(high)':cutoff_ls[feature_name][1][1],'Acc':acc,'AUC':auc,'SEN(Recall)':tpr,'SPC':spc,'PPV(Precision)':ppv,'NPV':npv},index=[feature_name]) \n",
    "    if visbosity:\n",
    "        cm = metrics.confusion_matrix(y_test,y_pred) \n",
    "        display = metrics.ConfusionMatrixDisplay(cm)\n",
    "        display.plot(cmap=plt.cm.Blues)\n",
    "        plt.title('{}:Test Result'.format(feature_name))\n",
    "        plt.show()\n",
    "    \n",
    "    return tmp,y_pred  \n",
    "        "
   ]
  },
  {
   "cell_type": "code",
   "execution_count": 11,
   "metadata": {},
   "outputs": [
    {
     "data": {
      "image/png": "[encoded data removed]",
      "text/plain": [
       "<Figure size 432x288 with 2 Axes>"
      ]
     },
     "metadata": {
      "needs_background": "light"
     },
     "output_type": "display_data"
    },
    {
     "data": {
      "image/png": "[encoded data removed]",
      "text/plain": [
       "<Figure size 432x288 with 2 Axes>"
      ]
     },
     "metadata": {
      "needs_background": "light"
     },
     "output_type": "display_data"
    },
    {
     "data": {
      "image/png": "[encoded data removed]",
      "text/plain": [
       "<Figure size 432x288 with 2 Axes>"
      ]
     },
     "metadata": {
      "needs_background": "light"
     },
     "output_type": "display_data"
    },
    {
     "data": {
      "image/png": "[encoded data removed]",
      "text/plain": [
       "<Figure size 432x288 with 2 Axes>"
      ]
     },
     "metadata": {
      "needs_background": "light"
     },
     "output_type": "display_data"
    },
    {
     "data": {
      "image/png": "[encoded data removed]",
      "text/plain": [
       "<Figure size 432x288 with 2 Axes>"
      ]
     },
     "metadata": {
      "needs_background": "light"
     },
     "output_type": "display_data"
    },
    {
     "data": {
      "image/png": "[encoded data removed]",
      "text/plain": [
       "<Figure size 432x288 with 2 Axes>"
      ]
     },
     "metadata": {
      "needs_background": "light"
     },
     "output_type": "display_data"
    },
    {
     "data": {
      "image/png": "[encoded data removed]",
      "text/plain": [
       "<Figure size 432x288 with 2 Axes>"
      ]
     },
     "metadata": {
      "needs_background": "light"
     },
     "output_type": "display_data"
    },
    {
     "data": {
      "image/png": "[encoded data removed]",
      "text/plain": [
       "<Figure size 432x288 with 2 Axes>"
      ]
     },
     "metadata": {
      "needs_background": "light"
     },
     "output_type": "display_data"
    },
    {
     "data": {
      "text/html": [
       "<div>\n",
       "<style scoped>\n",
       "    .dataframe tbody tr th:only-of-type {\n",
       "        vertical-align: middle;\n",
       "    }\n",
       "\n",
       "    .dataframe tbody tr th {\n",
       "        vertical-align: top;\n",
       "    }\n",
       "\n",
       "    .dataframe thead th {\n",
       "        text-align: right;\n",
       "    }\n",
       "</style>\n",
       "<table border=\"1\" class=\"dataframe\">\n",
       "  <thead>\n",
       "    <tr style=\"text-align: right;\">\n",
       "      <th></th>\n",
       "      <th>Cutoff</th>\n",
       "      <th>Cutoff 95%CI(low)</th>\n",
       "      <th>Cutoff 95%CI(high)</th>\n",
       "      <th>Acc</th>\n",
       "      <th>AUC</th>\n",
       "      <th>SEN(Recall)</th>\n",
       "      <th>SPC</th>\n",
       "      <th>PPV(Precision)</th>\n",
       "      <th>NPV</th>\n",
       "    </tr>\n",
       "  </thead>\n",
       "  <tbody>\n",
       "    <tr>\n",
       "      <th>NIHSS</th>\n",
       "      <td>5.495</td>\n",
       "      <td>5.4374</td>\n",
       "      <td>5.5526</td>\n",
       "      <td>0.7193</td>\n",
       "      <td>0.7559</td>\n",
       "      <td>0.8718</td>\n",
       "      <td>0.6400</td>\n",
       "      <td>0.5574</td>\n",
       "      <td>0.9057</td>\n",
       "    </tr>\n",
       "    <tr>\n",
       "      <th>ADC&lt;620</th>\n",
       "      <td>18.495</td>\n",
       "      <td>18.4374</td>\n",
       "      <td>18.5526</td>\n",
       "      <td>0.7895</td>\n",
       "      <td>0.7415</td>\n",
       "      <td>0.5897</td>\n",
       "      <td>0.8933</td>\n",
       "      <td>0.7419</td>\n",
       "      <td>0.8072</td>\n",
       "    </tr>\n",
       "    <tr>\n",
       "      <th>Tmax&gt;4 Volume</th>\n",
       "      <td>121.995</td>\n",
       "      <td>121.9143</td>\n",
       "      <td>122.0757</td>\n",
       "      <td>0.7632</td>\n",
       "      <td>0.7892</td>\n",
       "      <td>0.8718</td>\n",
       "      <td>0.7067</td>\n",
       "      <td>0.6071</td>\n",
       "      <td>0.9138</td>\n",
       "    </tr>\n",
       "    <tr>\n",
       "      <th>Tmax&gt;6 Volume</th>\n",
       "      <td>45.495</td>\n",
       "      <td>45.4374</td>\n",
       "      <td>45.5526</td>\n",
       "      <td>0.8509</td>\n",
       "      <td>0.8805</td>\n",
       "      <td>0.9744</td>\n",
       "      <td>0.7867</td>\n",
       "      <td>0.7037</td>\n",
       "      <td>0.9833</td>\n",
       "    </tr>\n",
       "    <tr>\n",
       "      <th>Tmax&gt;8 Volume</th>\n",
       "      <td>29.495</td>\n",
       "      <td>29.4374</td>\n",
       "      <td>29.5526</td>\n",
       "      <td>0.8860</td>\n",
       "      <td>0.8887</td>\n",
       "      <td>0.8974</td>\n",
       "      <td>0.8800</td>\n",
       "      <td>0.7955</td>\n",
       "      <td>0.9429</td>\n",
       "    </tr>\n",
       "    <tr>\n",
       "      <th>Tmax&gt;10 Volume</th>\n",
       "      <td>9.495</td>\n",
       "      <td>9.4374</td>\n",
       "      <td>9.5526</td>\n",
       "      <td>0.8333</td>\n",
       "      <td>0.8549</td>\n",
       "      <td>0.9231</td>\n",
       "      <td>0.7867</td>\n",
       "      <td>0.6923</td>\n",
       "      <td>0.9516</td>\n",
       "    </tr>\n",
       "    <tr>\n",
       "      <th>PWI-DWI Mismatch</th>\n",
       "      <td>25.495</td>\n",
       "      <td>25.4374</td>\n",
       "      <td>25.5526</td>\n",
       "      <td>0.7632</td>\n",
       "      <td>0.7831</td>\n",
       "      <td>0.8462</td>\n",
       "      <td>0.7200</td>\n",
       "      <td>0.6111</td>\n",
       "      <td>0.9000</td>\n",
       "    </tr>\n",
       "    <tr>\n",
       "      <th>VTmax&gt;10s/VTmax&gt;6s</th>\n",
       "      <td>0.045</td>\n",
       "      <td>0.0233</td>\n",
       "      <td>0.0667</td>\n",
       "      <td>0.8070</td>\n",
       "      <td>0.8533</td>\n",
       "      <td>1.0000</td>\n",
       "      <td>0.7067</td>\n",
       "      <td>0.6393</td>\n",
       "      <td>1.0000</td>\n",
       "    </tr>\n",
       "  </tbody>\n",
       "</table>\n",
       "</div>"
      ],
      "text/plain": [
       "                     Cutoff  Cutoff 95%CI(low)  Cutoff 95%CI(high)     Acc  \\\n",
       "NIHSS                 5.495             5.4374              5.5526  0.7193   \n",
       "ADC<620              18.495            18.4374             18.5526  0.7895   \n",
       "Tmax>4 Volume       121.995           121.9143            122.0757  0.7632   \n",
       "Tmax>6 Volume        45.495            45.4374             45.5526  0.8509   \n",
       "Tmax>8 Volume        29.495            29.4374             29.5526  0.8860   \n",
       "Tmax>10 Volume        9.495             9.4374              9.5526  0.8333   \n",
       "PWI-DWI Mismatch     25.495            25.4374             25.5526  0.7632   \n",
       "VTmax>10s/VTmax>6s    0.045             0.0233              0.0667  0.8070   \n",
       "\n",
       "                       AUC  SEN(Recall)     SPC  PPV(Precision)     NPV  \n",
       "NIHSS               0.7559       0.8718  0.6400          0.5574  0.9057  \n",
       "ADC<620             0.7415       0.5897  0.8933          0.7419  0.8072  \n",
       "Tmax>4 Volume       0.7892       0.8718  0.7067          0.6071  0.9138  \n",
       "Tmax>6 Volume       0.8805       0.9744  0.7867          0.7037  0.9833  \n",
       "Tmax>8 Volume       0.8887       0.8974  0.8800          0.7955  0.9429  \n",
       "Tmax>10 Volume      0.8549       0.9231  0.7867          0.6923  0.9516  \n",
       "PWI-DWI Mismatch    0.7831       0.8462  0.7200          0.6111  0.9000  \n",
       "VTmax>10s/VTmax>6s  0.8533       1.0000  0.7067          0.6393  1.0000  "
      ]
     },
     "execution_count": 11,
     "metadata": {},
     "output_type": "execute_result"
    }
   ],
   "source": [
    "test_result = pd.DataFrame(columns=['Cutoff','Cutoff 95%CI(low)','Cutoff 95%CI(high)','Acc','AUC','SEN(Recall)','SPC','PPV(Precision)','NPV'])\n",
    "for i in range(len(features)):\n",
    "    rst,_ = validate(X_test,y_test,features[i])\n",
    "    test_result = pd.concat([test_result,rst.round(4)])\n",
    "test_result"
   ]
  },
  {
   "cell_type": "code",
   "execution_count": 19,
   "metadata": {},
   "outputs": [
    {
     "data": {
      "image/png": "[encoded data removed]",
      "text/plain": [
       "<Figure size 432x288 with 1 Axes>"
      ]
     },
     "metadata": {
      "needs_background": "light"
     },
     "output_type": "display_data"
    }
   ],
   "source": [
    "## visualization of volume ratio \n",
    "feature_name = 'VTmax>10s/VTmax>6s'\n",
    "feature_ls = X_test[feature_name]\n",
    "_,y_pred = validate(X_test,y_test,feature_name,visbosity=False)\n",
    "cutoff = cutoff_ls[feature_name][0]\n",
    "ht_feature = feature_ls[y_test[(y_test == 1) & (y_test == y_pred)].index ]\n",
    "noht_feature = feature_ls[y_test[(y_test == 0) & (y_test == y_pred)].index]\n",
    "misclassify_feature = feature_ls[y_test[y_test != y_pred].index]\n",
    "y_ht = y_test[(y_test == 1) & (y_test == y_pred)]\n",
    "y_noht = y_test[(y_test == 0) & (y_test == y_pred)]\n",
    "y_misclassify = y_test[y_test!=y_pred]\n",
    "\n",
    "plt.scatter(noht_feature,y_noht,label='no HT',c='blue')\n",
    "plt.scatter(ht_feature,y_ht,label='HT',c='red')\n",
    "plt.scatter(misclassify_feature,y_misclassify,label='misclassify',c='green')\n",
    "plt.axvline(cutoff,color='purple')\n",
    "plt.xticks([-1,1])\n",
    "plt.xlabel('$V_{Tmax>10s}$/$V_{Tmax>6s}$',fontsize=13)\n",
    "plt.ylabel('Group')\n",
    "plt.legend()\n",
    "plt.show()"
   ]
  },
  {
   "cell_type": "code",
   "execution_count": 10,
   "metadata": {},
   "outputs": [
    {
     "data": {
      "text/plain": [
       "<matplotlib.legend.Legend at 0x7fad74c859d0>"
      ]
     },
     "execution_count": 10,
     "metadata": {},
     "output_type": "execute_result"
    },
    {
     "data": {
      "image/png": "[encoded data removed]",
      "text/plain": [
       "<Figure size 432x288 with 1 Axes>"
      ]
     },
     "metadata": {
      "needs_background": "light"
     },
     "output_type": "display_data"
    }
   ],
   "source": [
    "## visualization of volume ratio \n",
    "feature_name = 'Tmax>8 Volume'\n",
    "feature_ls = X_test[feature_name]\n",
    "_,y_pred = validate(X_test,y_test,feature_name,visbosity=False)\n",
    "cutoff = cutoff_ls[feature_name][0]\n",
    "ht_feature = feature_ls[y_test[(y_test == 1) & (y_test == y_pred)].index ]\n",
    "noht_feature = feature_ls[y_test[(y_test == 0) & (y_test == y_pred)].index]\n",
    "misclassify_feature = feature_ls[y_test[y_test != y_pred].index]\n",
    "y_ht = y_test[(y_test == 1) & (y_test == y_pred)]\n",
    "y_noht = y_test[(y_test == 0) & (y_test == y_pred)]\n",
    "y_misclassify = y_test[y_test!=y_pred]\n",
    "\n",
    "plt.scatter(noht_feature,y_noht,label='no HT',c='blue')\n",
    "plt.scatter(ht_feature,y_ht,label='HT',c='red')\n",
    "plt.scatter(misclassify_feature,y_misclassify,label='misclassify',c='green')\n",
    "plt.axvline(cutoff,color='purple')\n",
    "plt.xlabel(feature_name)\n",
    "plt.ylabel('Group')\n",
    "plt.legend()"
   ]
  }
 ],
 "metadata": {
  "kernelspec": {
   "display_name": "Python 3",
   "language": "python",
   "name": "python3"
  },
  "language_info": {
   "codemirror_mode": {
    "name": "ipython",
    "version": 3
   },
   "file_extension": ".py",
   "mimetype": "text/x-python",
   "name": "python",
   "nbconvert_exporter": "python",
   "pygments_lexer": "ipython3",
   "version": "3.9.12"
  }
 },
 "nbformat": 4,
 "nbformat_minor": 2
}
